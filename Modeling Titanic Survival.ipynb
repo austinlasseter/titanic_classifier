{
 "cells": [
  {
   "cell_type": "markdown",
   "metadata": {},
   "source": [
    "## Modeling Survival on the Titanic"
   ]
  },
  {
   "cell_type": "code",
   "execution_count": 1,
   "metadata": {},
   "outputs": [],
   "source": [
    "import pandas as pd\n",
    "import numpy as np\n",
    "import re\n",
    "import pickle"
   ]
  },
  {
   "cell_type": "code",
   "execution_count": 2,
   "metadata": {},
   "outputs": [
    {
     "data": {
      "text/html": [
       "<script type=\"text/javascript\">window.PlotlyConfig = {MathJaxConfig: 'local'};</script><script type=\"text/javascript\">if (window.MathJax) {MathJax.Hub.Config({SVG: {font: \"STIX-Web\"}});}</script><script>requirejs.config({paths: { 'plotly': ['https://cdn.plot.ly/plotly-latest.min']},});if(!window._Plotly) {require(['plotly'],function(plotly) {window._Plotly=plotly;});}</script>"
      ],
      "text/vnd.plotly.v1+html": [
       "<script type=\"text/javascript\">window.PlotlyConfig = {MathJaxConfig: 'local'};</script><script type=\"text/javascript\">if (window.MathJax) {MathJax.Hub.Config({SVG: {font: \"STIX-Web\"}});}</script><script>requirejs.config({paths: { 'plotly': ['https://cdn.plot.ly/plotly-latest.min']},});if(!window._Plotly) {require(['plotly'],function(plotly) {window._Plotly=plotly;});}</script>"
      ]
     },
     "metadata": {},
     "output_type": "display_data"
    }
   ],
   "source": [
    "from plotly.offline import download_plotlyjs, init_notebook_mode, plot, iplot\n",
    "init_notebook_mode(connected=True)\n",
    "\n",
    "import plotly.plotly as py\n",
    "import plotly.graph_objs as go\n",
    "from plotly.graph_objs import *"
   ]
  },
  {
   "cell_type": "code",
   "execution_count": 3,
   "metadata": {},
   "outputs": [],
   "source": [
    "from sklearn import svm\n",
    "from sklearn import tree\n",
    "from sklearn.model_selection import cross_val_score\n",
    "from sklearn.metrics import classification_report\n",
    "from sklearn.naive_bayes import MultinomialNB, BernoulliNB, GaussianNB\n",
    "from sklearn.pipeline import Pipeline\n",
    "from sklearn.linear_model import LogisticRegression\n",
    "from sklearn.model_selection import train_test_split\n",
    "from sklearn import metrics\n",
    "from sklearn.metrics import classification_report,confusion_matrix,accuracy_score, roc_curve\n",
    "from sklearn.neighbors import KNeighborsClassifier\n",
    "from sklearn.ensemble import RandomForestClassifier, ExtraTreesClassifier, BaggingClassifier\n",
    "from sklearn.metrics import roc_auc_score\n",
    "from sklearn.model_selection import GridSearchCV\n",
    "from sklearn.pipeline import Pipeline"
   ]
  },
  {
   "cell_type": "code",
   "execution_count": 4,
   "metadata": {},
   "outputs": [],
   "source": [
    "# Define the color palette (17 colors).\n",
    "Viridis= ['#440154', '#48186a', '#472d7b', '#424086', '#3b528b', '#33638d', '#2c728e', '#26828e', '#21918c', '#1fa088',\n",
    "          '#28ae80', '#3fbc73', '#5ec962', '#84d44b', '#addc30','#d8e219', '#fde725']   "
   ]
  },
  {
   "cell_type": "markdown",
   "metadata": {},
   "source": [
    "### Read in the titanic dataset"
   ]
  },
  {
   "cell_type": "code",
   "execution_count": 5,
   "metadata": {},
   "outputs": [
    {
     "name": "stdout",
     "output_type": "stream",
     "text": [
      "(712, 8)\n"
     ]
    },
    {
     "data": {
      "text/html": [
       "<div>\n",
       "<style scoped>\n",
       "    .dataframe tbody tr th:only-of-type {\n",
       "        vertical-align: middle;\n",
       "    }\n",
       "\n",
       "    .dataframe tbody tr th {\n",
       "        vertical-align: top;\n",
       "    }\n",
       "\n",
       "    .dataframe thead th {\n",
       "        text-align: right;\n",
       "    }\n",
       "</style>\n",
       "<table border=\"1\" class=\"dataframe\">\n",
       "  <thead>\n",
       "    <tr style=\"text-align: right;\">\n",
       "      <th></th>\n",
       "      <th>Survived</th>\n",
       "      <th>Pclass</th>\n",
       "      <th>Sex</th>\n",
       "      <th>Age</th>\n",
       "      <th>Fare</th>\n",
       "      <th>Embarked</th>\n",
       "      <th>Name</th>\n",
       "      <th>SibSp</th>\n",
       "    </tr>\n",
       "  </thead>\n",
       "  <tbody>\n",
       "    <tr>\n",
       "      <th>0</th>\n",
       "      <td>0</td>\n",
       "      <td>3</td>\n",
       "      <td>male</td>\n",
       "      <td>22.0</td>\n",
       "      <td>7.2500</td>\n",
       "      <td>Southampton</td>\n",
       "      <td>Braund, Mr. Owen Harris</td>\n",
       "      <td>1</td>\n",
       "    </tr>\n",
       "    <tr>\n",
       "      <th>1</th>\n",
       "      <td>1</td>\n",
       "      <td>1</td>\n",
       "      <td>female</td>\n",
       "      <td>38.0</td>\n",
       "      <td>71.2833</td>\n",
       "      <td>Cherbourg</td>\n",
       "      <td>Cumings, Mrs. John Bradley (Florence Briggs Th...</td>\n",
       "      <td>1</td>\n",
       "    </tr>\n",
       "    <tr>\n",
       "      <th>2</th>\n",
       "      <td>1</td>\n",
       "      <td>3</td>\n",
       "      <td>female</td>\n",
       "      <td>26.0</td>\n",
       "      <td>7.9250</td>\n",
       "      <td>Southampton</td>\n",
       "      <td>Heikkinen, Miss. Laina</td>\n",
       "      <td>0</td>\n",
       "    </tr>\n",
       "    <tr>\n",
       "      <th>3</th>\n",
       "      <td>1</td>\n",
       "      <td>1</td>\n",
       "      <td>female</td>\n",
       "      <td>35.0</td>\n",
       "      <td>53.1000</td>\n",
       "      <td>Southampton</td>\n",
       "      <td>Futrelle, Mrs. Jacques Heath (Lily May Peel)</td>\n",
       "      <td>1</td>\n",
       "    </tr>\n",
       "    <tr>\n",
       "      <th>4</th>\n",
       "      <td>0</td>\n",
       "      <td>3</td>\n",
       "      <td>male</td>\n",
       "      <td>35.0</td>\n",
       "      <td>8.0500</td>\n",
       "      <td>Southampton</td>\n",
       "      <td>Allen, Mr. William Henry</td>\n",
       "      <td>0</td>\n",
       "    </tr>\n",
       "  </tbody>\n",
       "</table>\n",
       "</div>"
      ],
      "text/plain": [
       "   Survived  Pclass     Sex   Age     Fare     Embarked  \\\n",
       "0         0       3    male  22.0   7.2500  Southampton   \n",
       "1         1       1  female  38.0  71.2833    Cherbourg   \n",
       "2         1       3  female  26.0   7.9250  Southampton   \n",
       "3         1       1  female  35.0  53.1000  Southampton   \n",
       "4         0       3    male  35.0   8.0500  Southampton   \n",
       "\n",
       "                                                Name  SibSp  \n",
       "0                            Braund, Mr. Owen Harris      1  \n",
       "1  Cumings, Mrs. John Bradley (Florence Briggs Th...      1  \n",
       "2                             Heikkinen, Miss. Laina      0  \n",
       "3       Futrelle, Mrs. Jacques Heath (Lily May Peel)      1  \n",
       "4                           Allen, Mr. William Henry      0  "
      ]
     },
     "execution_count": 5,
     "metadata": {},
     "output_type": "execute_result"
    }
   ],
   "source": [
    "df = pd.read_csv('00_resources/titanic.csv')\n",
    "# df = pd.read_csv(\"https://raw.githubusercontent.com/austinlasseter/plotly_dash_tutorial/master/00%20resources/titanic.csv\")\n",
    "print(df.shape)\n",
    "df.head()"
   ]
  },
  {
   "cell_type": "markdown",
   "metadata": {},
   "source": [
    "### Features"
   ]
  },
  {
   "cell_type": "code",
   "execution_count": 6,
   "metadata": {},
   "outputs": [],
   "source": [
    "# Make some dummies for sex\n",
    "df = pd.get_dummies(df, prefix='', prefix_sep='', columns=['Sex'])"
   ]
  },
  {
   "cell_type": "code",
   "execution_count": 7,
   "metadata": {},
   "outputs": [],
   "source": [
    "# Make some dummies Passenger's cabin class\n",
    "df = pd.get_dummies(df, prefix='pclass', prefix_sep='_', columns=['Pclass'])"
   ]
  },
  {
   "cell_type": "code",
   "execution_count": 8,
   "metadata": {},
   "outputs": [],
   "source": [
    "# Make some dummies Passenger's embarkation\n",
    "df = pd.get_dummies(df, prefix='', prefix_sep='', columns=['Embarked'])"
   ]
  },
  {
   "cell_type": "code",
   "execution_count": 9,
   "metadata": {},
   "outputs": [
    {
     "data": {
      "text/plain": [
       "0    469\n",
       "1    183\n",
       "2     25\n",
       "4     18\n",
       "3     12\n",
       "5      5\n",
       "Name: SibSp, dtype: int64"
      ]
     },
     "execution_count": 9,
     "metadata": {},
     "output_type": "execute_result"
    }
   ],
   "source": [
    "# Siblings and Spouses\n",
    "df.SibSp.value_counts()"
   ]
  },
  {
   "cell_type": "code",
   "execution_count": 10,
   "metadata": {},
   "outputs": [],
   "source": [
    "# Length of name\n",
    "df['name_length']=df['Name'].apply(lambda x: len(x))"
   ]
  },
  {
   "cell_type": "code",
   "execution_count": 11,
   "metadata": {},
   "outputs": [
    {
     "name": "stdout",
     "output_type": "stream",
     "text": [
      "(712, 14)\n",
      "(712, 14)\n"
     ]
    }
   ],
   "source": [
    "# Check for missing values as they will skew the regression\n",
    "print(df.shape)\n",
    "df = df.dropna()\n",
    "print(df.shape)"
   ]
  },
  {
   "cell_type": "code",
   "execution_count": 12,
   "metadata": {},
   "outputs": [
    {
     "data": {
      "text/plain": [
       "Index(['Survived', 'Age', 'Fare', 'Name', 'SibSp', 'female', 'male',\n",
       "       'pclass_1', 'pclass_2', 'pclass_3', 'Cherbourg', 'Queenstown',\n",
       "       'Southampton', 'name_length'],\n",
       "      dtype='object')"
      ]
     },
     "execution_count": 12,
     "metadata": {},
     "output_type": "execute_result"
    }
   ],
   "source": [
    "# What are the possible features?\n",
    "df.columns"
   ]
  },
  {
   "cell_type": "code",
   "execution_count": 13,
   "metadata": {},
   "outputs": [],
   "source": [
    "# Select our features\n",
    "feature_cols = ['Fare', 'Age', 'pclass_2', 'pclass_3', 'female',  'Cherbourg', 'Queenstown','SibSp', 'name_length', 'Name']\n",
    "X = df[feature_cols]\n",
    "y = df.Survived"
   ]
  },
  {
   "cell_type": "markdown",
   "metadata": {},
   "source": [
    "### Modeling"
   ]
  },
  {
   "cell_type": "code",
   "execution_count": 14,
   "metadata": {},
   "outputs": [],
   "source": [
    "# Train-test split\n",
    "X_train1, X_test1, y_train, y_test = train_test_split(X, y, test_size = .2, random_state=42)"
   ]
  },
  {
   "cell_type": "code",
   "execution_count": 15,
   "metadata": {},
   "outputs": [],
   "source": [
    "# Remove the names, we'll save those for later use.\n",
    "X_train=X_train1.drop('Name', axis=1)\n",
    "X_test=X_test1.drop('Name', axis=1)"
   ]
  },
  {
   "cell_type": "code",
   "execution_count": 16,
   "metadata": {},
   "outputs": [
    {
     "name": "stdout",
     "output_type": "stream",
     "text": [
      "F1 Score 0.6783\n",
      "Accuracy 0.7413\n",
      "AUC Score 0.7283\n"
     ]
    }
   ],
   "source": [
    "gnb = GaussianNB()\n",
    "# Fit on the training data\n",
    "gnb_model = gnb.fit(X_train, y_train)\n",
    "# Predict on the testing data\n",
    "predictions=gnb_model.predict(X_test)\n",
    "probabilities = gnb_model.predict_proba(X_test)[:,1]\n",
    "# Calculate the roc-auc score\n",
    "auc_nb=metrics.roc_auc_score(y_test, predictions)\n",
    "acc_nb = metrics.accuracy_score(y_test, predictions)\n",
    "f1_nb = metrics.f1_score(y_test, predictions)\n",
    "# Display\n",
    "print('F1 Score', \"%.4f\" % round(f1_nb,4))\n",
    "print('Accuracy', \"%.4f\" % round(acc_nb,4))\n",
    "print('AUC Score', \"%.4f\" % round(auc_nb,4))"
   ]
  },
  {
   "cell_type": "code",
   "execution_count": 17,
   "metadata": {},
   "outputs": [
    {
     "name": "stdout",
     "output_type": "stream",
     "text": [
      "F1 Score 0.6218\n",
      "Accuracy 0.6853\n",
      "AUC Score 0.6749\n"
     ]
    }
   ],
   "source": [
    "knn = KNeighborsClassifier(n_neighbors=7)\n",
    "# Fit on the training data\n",
    "knn_model=knn.fit(X_train, y_train)\n",
    "# Predict on the testing data\n",
    "predictions=knn_model.predict(X_test)\n",
    "probabilities = knn_model.predict_proba(X_test)[:,1]\n",
    "# Calculate the roc-auc score\n",
    "auc_knn=metrics.roc_auc_score(y_test, predictions)\n",
    "acc_knn = metrics.accuracy_score(y_test, predictions)\n",
    "f1_knn = metrics.f1_score(y_test, predictions)\n",
    "# Display\n",
    "print('F1 Score', \"%.4f\" % round(f1_knn,4))\n",
    "print('Accuracy', \"%.4f\" % round(acc_knn,4))\n",
    "print('AUC Score', \"%.4f\" % round(auc_knn,4))"
   ]
  },
  {
   "cell_type": "code",
   "execution_count": 18,
   "metadata": {},
   "outputs": [
    {
     "name": "stdout",
     "output_type": "stream",
     "text": [
      "F1 Score 0.7368\n",
      "Accuracy 0.7902\n",
      "AUC Score 0.7771\n"
     ]
    }
   ],
   "source": [
    "rf = RandomForestClassifier()\n",
    "# Fit on the training data\n",
    "rf_model=rf.fit(X_train, y_train)\n",
    "# Predict on the testing data\n",
    "predictions=rf_model.predict(X_test)\n",
    "probabilities = rf_model.predict_proba(X_test)[:,1]\n",
    "# Calculate the roc-auc score\n",
    "auc_rf=metrics.roc_auc_score(y_test, predictions)\n",
    "acc_rf = metrics.accuracy_score(y_test, predictions)\n",
    "f1_rf = metrics.f1_score(y_test, predictions)\n",
    "# Display\n",
    "print('F1 Score', \"%.4f\" % round(f1_rf,4))\n",
    "print('Accuracy', \"%.4f\" % round(acc_rf,4))\n",
    "print('AUC Score', \"%.4f\" % round(auc_rf,4))"
   ]
  },
  {
   "cell_type": "code",
   "execution_count": 19,
   "metadata": {},
   "outputs": [
    {
     "name": "stdout",
     "output_type": "stream",
     "text": [
      "F1 Score 0.7304\n",
      "Accuracy 0.7832\n",
      "AUC Score 0.7708\n"
     ]
    }
   ],
   "source": [
    "logreg = LogisticRegression()\n",
    "# Fit on the training data\n",
    "log_model=logreg.fit(X_train, y_train)\n",
    "# Predict on the testing data\n",
    "predictions=log_model.predict(X_test)\n",
    "probabilities = log_model.predict_proba(X_test)[:,1]\n",
    "# Calculate the roc-auc score\n",
    "auc_log=metrics.roc_auc_score(y_test, predictions)\n",
    "acc_log = metrics.accuracy_score(y_test, predictions)\n",
    "f1_log = metrics.f1_score(y_test, predictions)\n",
    "# Display\n",
    "print('F1 Score', \"%.4f\" % round(f1_log,4))\n",
    "print('Accuracy', \"%.4f\" % round(acc_log,4))\n",
    "print('AUC Score', \"%.4f\" % round(auc_log,4))"
   ]
  },
  {
   "cell_type": "markdown",
   "metadata": {},
   "source": [
    "### Comparison of Four Models"
   ]
  },
  {
   "cell_type": "code",
   "execution_count": 20,
   "metadata": {},
   "outputs": [],
   "source": [
    "# Comparison\n",
    "f1=[f1_nb, f1_log, f1_knn, f1_rf]\n",
    "acc=[acc_nb, acc_log, acc_knn, acc_rf]\n",
    "auc=[auc_nb, auc_log, auc_knn, auc_rf]\n",
    "models=['naive bayes', 'logistic regression', 'k-nearest neighbors', 'random forest']\n",
    "index=['F1 score', 'Accuracy', 'AUC score']\n",
    "results=pd.DataFrame([f1, acc, auc], index=index, columns=models)"
   ]
  },
  {
   "cell_type": "code",
   "execution_count": 21,
   "metadata": {},
   "outputs": [
    {
     "data": {
      "application/vnd.plotly.v1+json": {
       "config": {
        "linkText": "Export to plot.ly",
        "plotlyServerURL": "https://plot.ly",
        "showLink": false
       },
       "data": [
        {
         "marker": {
          "color": "#fde725"
         },
         "name": "F1 score",
         "type": "bar",
         "uid": "9944593d-173d-4c6d-b184-513056e8b384",
         "x": [
          "naive bayes",
          "logistic regression",
          "k-nearest neighbors",
          "random forest"
         ],
         "y": [
          0.6782608695652174,
          0.7304347826086955,
          0.6218487394957983,
          0.7368421052631577
         ]
        },
        {
         "marker": {
          "color": "#28ae80"
         },
         "name": "Accuracy",
         "type": "bar",
         "uid": "9337e691-e90e-4d5f-9764-261193821eda",
         "x": [
          "naive bayes",
          "logistic regression",
          "k-nearest neighbors",
          "random forest"
         ],
         "y": [
          0.7412587412587412,
          0.7832167832167832,
          0.6853146853146853,
          0.7902097902097902
         ]
        },
        {
         "marker": {
          "color": "#440154"
         },
         "name": "AUC score",
         "type": "bar",
         "uid": "b4f83f9a-445c-4c12-a2cd-51de32cdbfca",
         "x": [
          "naive bayes",
          "logistic regression",
          "k-nearest neighbors",
          "random forest"
         ],
         "y": [
          0.7282738095238096,
          0.7708333333333333,
          0.6749007936507937,
          0.7770833333333332
         ]
        }
       ],
       "layout": {
        "title": {
         "text": "Comparison of Possible Models"
        },
        "xaxis": {
         "title": {
          "text": "Predictive models"
         }
        },
        "yaxis": {
         "title": {
          "text": "Score"
         }
        }
       }
      },
      "text/html": [
       "<div id=\"ad919e0d-dadc-47bf-9668-cfc89543a129\" style=\"height: 525px; width: 100%;\" class=\"plotly-graph-div\"></div><script type=\"text/javascript\">require([\"plotly\"], function(Plotly) { window.PLOTLYENV=window.PLOTLYENV || {};window.PLOTLYENV.BASE_URL=\"https://plot.ly\";\n",
       "if (document.getElementById(\"ad919e0d-dadc-47bf-9668-cfc89543a129\")) {\n",
       "    Plotly.newPlot(\"ad919e0d-dadc-47bf-9668-cfc89543a129\", [{\"marker\": {\"color\": \"#fde725\"}, \"name\": \"F1 score\", \"x\": [\"naive bayes\", \"logistic regression\", \"k-nearest neighbors\", \"random forest\"], \"y\": [0.6782608695652174, 0.7304347826086955, 0.6218487394957983, 0.7368421052631577], \"type\": \"bar\", \"uid\": \"9944593d-173d-4c6d-b184-513056e8b384\"}, {\"marker\": {\"color\": \"#28ae80\"}, \"name\": \"Accuracy\", \"x\": [\"naive bayes\", \"logistic regression\", \"k-nearest neighbors\", \"random forest\"], \"y\": [0.7412587412587412, 0.7832167832167832, 0.6853146853146853, 0.7902097902097902], \"type\": \"bar\", \"uid\": \"9337e691-e90e-4d5f-9764-261193821eda\"}, {\"marker\": {\"color\": \"#440154\"}, \"name\": \"AUC score\", \"x\": [\"naive bayes\", \"logistic regression\", \"k-nearest neighbors\", \"random forest\"], \"y\": [0.7282738095238096, 0.7708333333333333, 0.6749007936507937, 0.7770833333333332], \"type\": \"bar\", \"uid\": \"b4f83f9a-445c-4c12-a2cd-51de32cdbfca\"}], {\"title\": {\"text\": \"Comparison of Possible Models\"}, \"xaxis\": {\"title\": {\"text\": \"Predictive models\"}}, \"yaxis\": {\"title\": {\"text\": \"Score\"}}}, {\"showLink\": false, \"linkText\": \"Export to plot.ly\", \"plotlyServerURL\": \"https://plot.ly\"}); \n",
       "}\n",
       "});</script><script type=\"text/javascript\">window.addEventListener(\"resize\", function(){if (document.getElementById(\"ad919e0d-dadc-47bf-9668-cfc89543a129\")) {window._Plotly.Plots.resize(document.getElementById(\"ad919e0d-dadc-47bf-9668-cfc89543a129\"));};})</script>"
      ],
      "text/vnd.plotly.v1+html": [
       "<div id=\"ad919e0d-dadc-47bf-9668-cfc89543a129\" style=\"height: 525px; width: 100%;\" class=\"plotly-graph-div\"></div><script type=\"text/javascript\">require([\"plotly\"], function(Plotly) { window.PLOTLYENV=window.PLOTLYENV || {};window.PLOTLYENV.BASE_URL=\"https://plot.ly\";\n",
       "if (document.getElementById(\"ad919e0d-dadc-47bf-9668-cfc89543a129\")) {\n",
       "    Plotly.newPlot(\"ad919e0d-dadc-47bf-9668-cfc89543a129\", [{\"marker\": {\"color\": \"#fde725\"}, \"name\": \"F1 score\", \"x\": [\"naive bayes\", \"logistic regression\", \"k-nearest neighbors\", \"random forest\"], \"y\": [0.6782608695652174, 0.7304347826086955, 0.6218487394957983, 0.7368421052631577], \"type\": \"bar\", \"uid\": \"9944593d-173d-4c6d-b184-513056e8b384\"}, {\"marker\": {\"color\": \"#28ae80\"}, \"name\": \"Accuracy\", \"x\": [\"naive bayes\", \"logistic regression\", \"k-nearest neighbors\", \"random forest\"], \"y\": [0.7412587412587412, 0.7832167832167832, 0.6853146853146853, 0.7902097902097902], \"type\": \"bar\", \"uid\": \"9337e691-e90e-4d5f-9764-261193821eda\"}, {\"marker\": {\"color\": \"#440154\"}, \"name\": \"AUC score\", \"x\": [\"naive bayes\", \"logistic regression\", \"k-nearest neighbors\", \"random forest\"], \"y\": [0.7282738095238096, 0.7708333333333333, 0.6749007936507937, 0.7770833333333332], \"type\": \"bar\", \"uid\": \"b4f83f9a-445c-4c12-a2cd-51de32cdbfca\"}], {\"title\": {\"text\": \"Comparison of Possible Models\"}, \"xaxis\": {\"title\": {\"text\": \"Predictive models\"}}, \"yaxis\": {\"title\": {\"text\": \"Score\"}}}, {\"showLink\": false, \"linkText\": \"Export to plot.ly\", \"plotlyServerURL\": \"https://plot.ly\"}); \n",
       "}\n",
       "});</script><script type=\"text/javascript\">window.addEventListener(\"resize\", function(){if (document.getElementById(\"ad919e0d-dadc-47bf-9668-cfc89543a129\")) {window._Plotly.Plots.resize(document.getElementById(\"ad919e0d-dadc-47bf-9668-cfc89543a129\"));};})</script>"
      ]
     },
     "metadata": {},
     "output_type": "display_data"
    }
   ],
   "source": [
    "# Let's display that with plotly.\n",
    "mydata1 = go.Bar(\n",
    "    x=results.loc['F1 score'].index,\n",
    "    y=results.loc['F1 score'],\n",
    "    name=results.index[0],\n",
    "    marker=dict(color=Viridis[16])\n",
    ")\n",
    "mydata2 = go.Bar(\n",
    "    x=results.loc['Accuracy'].index,\n",
    "    y=results.loc['Accuracy'],\n",
    "    name=results.index[1],\n",
    "    marker=dict(color=Viridis[10])\n",
    ")\n",
    "mydata3 = go.Bar(\n",
    "    x=results.loc['AUC score'].index,\n",
    "    y=results.loc['AUC score'],\n",
    "    name=results.index[2],\n",
    "    marker=dict(color=Viridis[0])\n",
    ")\n",
    "mylayout = go.Layout(\n",
    "    title='Comparison of Possible Models',\n",
    "    xaxis = dict(title = 'Predictive models'), # x-axis label\n",
    "    yaxis = dict(title = 'Score'), # y-axis label\n",
    "    \n",
    ")\n",
    "fig = go.Figure(data=[mydata1, mydata2, mydata3], layout=mylayout)\n",
    "iplot(fig)"
   ]
  },
  {
   "cell_type": "markdown",
   "metadata": {},
   "source": [
    "### Tuning the Logistic Classifier"
   ]
  },
  {
   "cell_type": "code",
   "execution_count": 22,
   "metadata": {},
   "outputs": [
    {
     "data": {
      "text/plain": [
       "GridSearchCV(cv=5, error_score='raise',\n",
       "       estimator=LogisticRegression(C=1.0, class_weight=None, dual=False, fit_intercept=True,\n",
       "          intercept_scaling=1, max_iter=100, multi_class='ovr', n_jobs=1,\n",
       "          penalty='l2', random_state=None, solver='liblinear', tol=0.0001,\n",
       "          verbose=0, warm_start=False),\n",
       "       fit_params=None, iid=True, n_jobs=1,\n",
       "       param_grid={'C': array([1.00000e+00, 2.78256e+00, 7.74264e+00, 2.15443e+01, 5.99484e+01,\n",
       "       1.66810e+02, 4.64159e+02, 1.29155e+03, 3.59381e+03, 1.00000e+04]), 'penalty': ['l1', 'l2']},\n",
       "       pre_dispatch='2*n_jobs', refit=True, return_train_score='warn',\n",
       "       scoring=None, verbose=0)"
      ]
     },
     "execution_count": 22,
     "metadata": {},
     "output_type": "execute_result"
    }
   ],
   "source": [
    "# Create regularization penalty space (l1=ridge, l2=lasso)\n",
    "penalty = ['l1', 'l2'] \n",
    "\n",
    "# Create regularization hyperparameter space\n",
    "C = np.logspace(0, 4, 10)\n",
    "\n",
    "# Create hyperparameter options\n",
    "hyperparameters = dict(C=C, penalty=penalty)\n",
    "\n",
    "# Create grid search using 5-fold cross validation\n",
    "grid_lr = GridSearchCV(LogisticRegression(), hyperparameters, cv=5,  n_jobs = 1, verbose=0)\n",
    "grid_lr.fit(X_train, y_train)"
   ]
  },
  {
   "cell_type": "code",
   "execution_count": 23,
   "metadata": {},
   "outputs": [
    {
     "name": "stdout",
     "output_type": "stream",
     "text": [
      "{'C': 2.7825594022071245, 'penalty': 'l2'}\n"
     ]
    }
   ],
   "source": [
    "print(grid_lr.best_params_)\n",
    "\n",
    "log_model = grid_lr"
   ]
  },
  {
   "cell_type": "code",
   "execution_count": 24,
   "metadata": {},
   "outputs": [],
   "source": [
    "# Predict on the testing data\n",
    "\n",
    "predictions=log_model.predict(X_test)\n",
    "probabilities = log_model.predict_proba(X_test)[:,1]"
   ]
  },
  {
   "cell_type": "markdown",
   "metadata": {},
   "source": [
    "## Final Model Metrics"
   ]
  },
  {
   "cell_type": "code",
   "execution_count": 25,
   "metadata": {},
   "outputs": [
    {
     "data": {
      "text/plain": [
       "{'ROC-AUC score': 0.7833333333333333,\n",
       " 'accuracy score': 0.7972027972027972,\n",
       " 'error rate': 0.2027972027972028,\n",
       " 'f1 score': 0.743362831858407,\n",
       " 'precision score': 0.84,\n",
       " 'recall score': 0.6666666666666666}"
      ]
     },
     "execution_count": 25,
     "metadata": {},
     "output_type": "execute_result"
    }
   ],
   "source": [
    "# Full list of metrics\n",
    "def model_metrics(y_test, predictions):\n",
    "    '''\n",
    "    Calculate 5 standard model metrics\n",
    "    Return a dictionary with the metrics\n",
    "    '''\n",
    "    f1 = metrics.f1_score(y_test, predictions)\n",
    "    accuracy = metrics.accuracy_score(y_test, predictions)\n",
    "    error = 1 - accuracy\n",
    "    precision = metrics.precision_score(y_test, predictions)\n",
    "    recall = metrics.recall_score(y_test, predictions)\n",
    "    rocauc =  metrics.roc_auc_score(y_test, predictions)\n",
    "    return {'f1 score':f1, 'accuracy score': accuracy, 'error rate': error, 'precision score': precision, 'recall score': recall, 'ROC-AUC score': rocauc}\n",
    "\n",
    "model_metrics(y_test, predictions)"
   ]
  },
  {
   "cell_type": "code",
   "execution_count": 26,
   "metadata": {},
   "outputs": [
    {
     "data": {
      "text/plain": [
       "array([0.    , 0.    , 0.0125, 0.0125, 0.025 , 0.025 , 0.0375, 0.0375,\n",
       "       0.05  , 0.05  , 0.075 , 0.075 , 0.0875, 0.0875, 0.1375, 0.1375,\n",
       "       0.15  , 0.15  , 0.175 , 0.175 , 0.2   , 0.2   , 0.225 , 0.225 ,\n",
       "       0.2375, 0.2375, 0.25  , 0.25  , 0.275 , 0.275 , 0.3625, 0.3625,\n",
       "       0.425 , 0.425 , 0.45  , 0.45  , 0.475 , 0.475 , 0.775 , 0.775 ,\n",
       "       0.8   , 0.8   , 0.85  , 0.85  , 0.875 , 0.875 , 0.8875, 0.8875,\n",
       "       1.    ])"
      ]
     },
     "execution_count": 26,
     "metadata": {},
     "output_type": "execute_result"
    }
   ],
   "source": [
    "FPR, TPR, _ = roc_curve(y_test, probabilities)\n",
    "FPR"
   ]
  },
  {
   "cell_type": "code",
   "execution_count": 27,
   "metadata": {},
   "outputs": [
    {
     "data": {
      "text/plain": [
       "78.3"
      ]
     },
     "execution_count": 27,
     "metadata": {},
     "output_type": "execute_result"
    }
   ],
   "source": [
    "roc_score=round(100*roc_auc_score(y_test, predictions),1)\n",
    "roc_score"
   ]
  },
  {
   "cell_type": "code",
   "execution_count": 28,
   "metadata": {},
   "outputs": [
    {
     "data": {
      "application/vnd.plotly.v1+json": {
       "config": {
        "linkText": "Export to plot.ly",
        "plotlyServerURL": "https://plot.ly",
        "showLink": false
       },
       "data": [
        {
         "mode": "lines",
         "name": "AUC: 78.3",
         "type": "scatter",
         "uid": "8aeb3890-09f8-4195-b758-d19c23111b0b",
         "x": [
          0,
          0,
          0.0125,
          0.0125,
          0.025,
          0.025,
          0.0375,
          0.0375,
          0.05,
          0.05,
          0.075,
          0.075,
          0.0875,
          0.0875,
          0.1375,
          0.1375,
          0.15,
          0.15,
          0.175,
          0.175,
          0.2,
          0.2,
          0.225,
          0.225,
          0.2375,
          0.2375,
          0.25,
          0.25,
          0.275,
          0.275,
          0.3625,
          0.3625,
          0.425,
          0.425,
          0.45,
          0.45,
          0.475,
          0.475,
          0.775,
          0.775,
          0.8,
          0.8,
          0.85,
          0.85,
          0.875,
          0.875,
          0.8875,
          0.8875,
          1
         ],
         "y": [
          0.015873015873015872,
          0.031746031746031744,
          0.031746031746031744,
          0.49206349206349204,
          0.49206349206349204,
          0.5238095238095238,
          0.5238095238095238,
          0.5555555555555556,
          0.5555555555555556,
          0.5873015873015873,
          0.5873015873015873,
          0.6190476190476191,
          0.6190476190476191,
          0.6666666666666666,
          0.6666666666666666,
          0.6825396825396826,
          0.6825396825396826,
          0.7142857142857143,
          0.7142857142857143,
          0.7301587301587301,
          0.7301587301587301,
          0.746031746031746,
          0.746031746031746,
          0.7619047619047619,
          0.7619047619047619,
          0.7777777777777778,
          0.7777777777777778,
          0.7936507936507936,
          0.7936507936507936,
          0.8095238095238095,
          0.8095238095238095,
          0.8253968253968254,
          0.8253968253968254,
          0.8412698412698413,
          0.8412698412698413,
          0.873015873015873,
          0.873015873015873,
          0.8888888888888888,
          0.8888888888888888,
          0.9047619047619048,
          0.9047619047619048,
          0.9206349206349206,
          0.9206349206349206,
          0.9682539682539683,
          0.9682539682539683,
          0.9841269841269841,
          0.9841269841269841,
          1,
          1
         ]
        },
        {
         "mode": "lines",
         "name": "Baseline Area: 50.0",
         "type": "scatter",
         "uid": "320e56a3-ff82-4584-b621-a0e3dd9bc6ca",
         "x": [
          0,
          1
         ],
         "y": [
          0,
          1
         ]
        }
       ],
       "layout": {
        "title": {
         "text": "Receiver Operating Characteristic (ROC) Curve"
        },
        "xaxis": {
         "scaleanchor": "y",
         "scaleratio": 1,
         "title": {
          "text": "False Positive Rate (100-Specificity)"
         }
        },
        "yaxis": {
         "title": {
          "text": "True Positive Rate (Sensitivity)"
         }
        }
       }
      },
      "text/html": [
       "<div id=\"e44f4119-50d9-46a4-8e27-3fedaf01ee51\" style=\"height: 525px; width: 100%;\" class=\"plotly-graph-div\"></div><script type=\"text/javascript\">require([\"plotly\"], function(Plotly) { window.PLOTLYENV=window.PLOTLYENV || {};window.PLOTLYENV.BASE_URL=\"https://plot.ly\";\n",
       "if (document.getElementById(\"e44f4119-50d9-46a4-8e27-3fedaf01ee51\")) {\n",
       "    Plotly.newPlot(\"e44f4119-50d9-46a4-8e27-3fedaf01ee51\", [{\"mode\": \"lines\", \"name\": \"AUC: 78.3\", \"x\": [0.0, 0.0, 0.0125, 0.0125, 0.025, 0.025, 0.0375, 0.0375, 0.05, 0.05, 0.075, 0.075, 0.0875, 0.0875, 0.1375, 0.1375, 0.15, 0.15, 0.175, 0.175, 0.2, 0.2, 0.225, 0.225, 0.2375, 0.2375, 0.25, 0.25, 0.275, 0.275, 0.3625, 0.3625, 0.425, 0.425, 0.45, 0.45, 0.475, 0.475, 0.775, 0.775, 0.8, 0.8, 0.85, 0.85, 0.875, 0.875, 0.8875, 0.8875, 1.0], \"y\": [0.015873015873015872, 0.031746031746031744, 0.031746031746031744, 0.49206349206349204, 0.49206349206349204, 0.5238095238095238, 0.5238095238095238, 0.5555555555555556, 0.5555555555555556, 0.5873015873015873, 0.5873015873015873, 0.6190476190476191, 0.6190476190476191, 0.6666666666666666, 0.6666666666666666, 0.6825396825396826, 0.6825396825396826, 0.7142857142857143, 0.7142857142857143, 0.7301587301587301, 0.7301587301587301, 0.746031746031746, 0.746031746031746, 0.7619047619047619, 0.7619047619047619, 0.7777777777777778, 0.7777777777777778, 0.7936507936507936, 0.7936507936507936, 0.8095238095238095, 0.8095238095238095, 0.8253968253968254, 0.8253968253968254, 0.8412698412698413, 0.8412698412698413, 0.873015873015873, 0.873015873015873, 0.8888888888888888, 0.8888888888888888, 0.9047619047619048, 0.9047619047619048, 0.9206349206349206, 0.9206349206349206, 0.9682539682539683, 0.9682539682539683, 0.9841269841269841, 0.9841269841269841, 1.0, 1.0], \"type\": \"scatter\", \"uid\": \"6350d841-8018-4749-8656-3ea6a48f4610\"}, {\"mode\": \"lines\", \"name\": \"Baseline Area: 50.0\", \"x\": [0, 1], \"y\": [0, 1], \"type\": \"scatter\", \"uid\": \"e0df2fdc-c94f-491c-a267-2eb57566c5a9\"}], {\"title\": {\"text\": \"Receiver Operating Characteristic (ROC) Curve\"}, \"xaxis\": {\"scaleanchor\": \"y\", \"scaleratio\": 1, \"title\": {\"text\": \"False Positive Rate (100-Specificity)\"}}, \"yaxis\": {\"title\": {\"text\": \"True Positive Rate (Sensitivity)\"}}}, {\"showLink\": false, \"linkText\": \"Export to plot.ly\", \"plotlyServerURL\": \"https://plot.ly\"}); \n",
       "}\n",
       "});</script><script type=\"text/javascript\">window.addEventListener(\"resize\", function(){if (document.getElementById(\"e44f4119-50d9-46a4-8e27-3fedaf01ee51\")) {window._Plotly.Plots.resize(document.getElementById(\"e44f4119-50d9-46a4-8e27-3fedaf01ee51\"));};})</script>"
      ],
      "text/vnd.plotly.v1+html": [
       "<div id=\"e44f4119-50d9-46a4-8e27-3fedaf01ee51\" style=\"height: 525px; width: 100%;\" class=\"plotly-graph-div\"></div><script type=\"text/javascript\">require([\"plotly\"], function(Plotly) { window.PLOTLYENV=window.PLOTLYENV || {};window.PLOTLYENV.BASE_URL=\"https://plot.ly\";\n",
       "if (document.getElementById(\"e44f4119-50d9-46a4-8e27-3fedaf01ee51\")) {\n",
       "    Plotly.newPlot(\"e44f4119-50d9-46a4-8e27-3fedaf01ee51\", [{\"mode\": \"lines\", \"name\": \"AUC: 78.3\", \"x\": [0.0, 0.0, 0.0125, 0.0125, 0.025, 0.025, 0.0375, 0.0375, 0.05, 0.05, 0.075, 0.075, 0.0875, 0.0875, 0.1375, 0.1375, 0.15, 0.15, 0.175, 0.175, 0.2, 0.2, 0.225, 0.225, 0.2375, 0.2375, 0.25, 0.25, 0.275, 0.275, 0.3625, 0.3625, 0.425, 0.425, 0.45, 0.45, 0.475, 0.475, 0.775, 0.775, 0.8, 0.8, 0.85, 0.85, 0.875, 0.875, 0.8875, 0.8875, 1.0], \"y\": [0.015873015873015872, 0.031746031746031744, 0.031746031746031744, 0.49206349206349204, 0.49206349206349204, 0.5238095238095238, 0.5238095238095238, 0.5555555555555556, 0.5555555555555556, 0.5873015873015873, 0.5873015873015873, 0.6190476190476191, 0.6190476190476191, 0.6666666666666666, 0.6666666666666666, 0.6825396825396826, 0.6825396825396826, 0.7142857142857143, 0.7142857142857143, 0.7301587301587301, 0.7301587301587301, 0.746031746031746, 0.746031746031746, 0.7619047619047619, 0.7619047619047619, 0.7777777777777778, 0.7777777777777778, 0.7936507936507936, 0.7936507936507936, 0.8095238095238095, 0.8095238095238095, 0.8253968253968254, 0.8253968253968254, 0.8412698412698413, 0.8412698412698413, 0.873015873015873, 0.873015873015873, 0.8888888888888888, 0.8888888888888888, 0.9047619047619048, 0.9047619047619048, 0.9206349206349206, 0.9206349206349206, 0.9682539682539683, 0.9682539682539683, 0.9841269841269841, 0.9841269841269841, 1.0, 1.0], \"type\": \"scatter\", \"uid\": \"6350d841-8018-4749-8656-3ea6a48f4610\"}, {\"mode\": \"lines\", \"name\": \"Baseline Area: 50.0\", \"x\": [0, 1], \"y\": [0, 1], \"type\": \"scatter\", \"uid\": \"e0df2fdc-c94f-491c-a267-2eb57566c5a9\"}], {\"title\": {\"text\": \"Receiver Operating Characteristic (ROC) Curve\"}, \"xaxis\": {\"scaleanchor\": \"y\", \"scaleratio\": 1, \"title\": {\"text\": \"False Positive Rate (100-Specificity)\"}}, \"yaxis\": {\"title\": {\"text\": \"True Positive Rate (Sensitivity)\"}}}, {\"showLink\": false, \"linkText\": \"Export to plot.ly\", \"plotlyServerURL\": \"https://plot.ly\"}); \n",
       "}\n",
       "});</script><script type=\"text/javascript\">window.addEventListener(\"resize\", function(){if (document.getElementById(\"e44f4119-50d9-46a4-8e27-3fedaf01ee51\")) {window._Plotly.Plots.resize(document.getElementById(\"e44f4119-50d9-46a4-8e27-3fedaf01ee51\"));};})</script>"
      ]
     },
     "metadata": {},
     "output_type": "display_data"
    }
   ],
   "source": [
    "# ROC-AUC figure\n",
    "FPR, TPR, _ = roc_curve(y_test, probabilities)\n",
    "roc_score=round(100*roc_auc_score(y_test, predictions),1)\n",
    "trace0=go.Scatter(\n",
    "        x=FPR, \n",
    "        y=TPR,\n",
    "        mode='lines',\n",
    "        name=f'AUC: {roc_score}'\n",
    "        )\n",
    "trace1=go.Scatter(\n",
    "        x=[0,1], \n",
    "        y=[0,1],\n",
    "        mode='lines',\n",
    "        name='Baseline Area: 50.0'\n",
    "        )\n",
    "layout=go.Layout(\n",
    "    title='Receiver Operating Characteristic (ROC) Curve',\n",
    "    xaxis={'title': 'False Positive Rate (100-Specificity)','scaleratio': 1,'scaleanchor': 'y'},\n",
    "    yaxis={'title': 'True Positive Rate (Sensitivity)'}\n",
    "    )\n",
    "data=[trace0, trace1]\n",
    "fig = dict(data=data, layout=layout)\n",
    "iplot(fig)"
   ]
  },
  {
   "cell_type": "code",
   "execution_count": 29,
   "metadata": {},
   "outputs": [
    {
     "data": {
      "text/plain": [
       "143"
      ]
     },
     "execution_count": 29,
     "metadata": {},
     "output_type": "execute_result"
    }
   ],
   "source": [
    "len(y_test)"
   ]
  },
  {
   "cell_type": "code",
   "execution_count": 30,
   "metadata": {},
   "outputs": [
    {
     "data": {
      "text/html": [
       "<div>\n",
       "<style scoped>\n",
       "    .dataframe tbody tr th:only-of-type {\n",
       "        vertical-align: middle;\n",
       "    }\n",
       "\n",
       "    .dataframe tbody tr th {\n",
       "        vertical-align: top;\n",
       "    }\n",
       "\n",
       "    .dataframe thead th {\n",
       "        text-align: right;\n",
       "    }\n",
       "</style>\n",
       "<table border=\"1\" class=\"dataframe\">\n",
       "  <thead>\n",
       "    <tr style=\"text-align: right;\">\n",
       "      <th></th>\n",
       "      <th>n=143</th>\n",
       "      <th>predict: +</th>\n",
       "      <th>pred: -</th>\n",
       "    </tr>\n",
       "  </thead>\n",
       "  <tbody>\n",
       "    <tr>\n",
       "      <th>0</th>\n",
       "      <td>ground: +</td>\n",
       "      <td>72</td>\n",
       "      <td>8</td>\n",
       "    </tr>\n",
       "    <tr>\n",
       "      <th>1</th>\n",
       "      <td>ground: -</td>\n",
       "      <td>21</td>\n",
       "      <td>42</td>\n",
       "    </tr>\n",
       "  </tbody>\n",
       "</table>\n",
       "</div>"
      ],
      "text/plain": [
       "       n=143  predict: +  pred: -\n",
       "0  ground: +          72        8\n",
       "1  ground: -          21       42"
      ]
     },
     "execution_count": 30,
     "metadata": {},
     "output_type": "execute_result"
    }
   ],
   "source": [
    "# A confusion matrix tells us our false positives and false negatives:\n",
    "matrix=confusion_matrix(y_test, predictions)\n",
    "cm=pd.DataFrame(matrix, columns=['predict: +', 'pred: -'])\n",
    "cm[f'n={len(y_test)}']=['ground: +', 'ground: -']\n",
    "cm=cm[[f'n={len(y_test)}', 'predict: +', 'pred: -']]\n",
    "cm"
   ]
  },
  {
   "cell_type": "code",
   "execution_count": 31,
   "metadata": {},
   "outputs": [
    {
     "data": {
      "application/vnd.plotly.v1+json": {
       "config": {
        "linkText": "Export to plot.ly",
        "plotlyServerURL": "https://plot.ly",
        "showLink": false
       },
       "data": [
        {
         "cells": {
          "align": [
           "left",
           "left",
           "left",
           "left",
           "left"
          ],
          "fill": {
           "color": "white"
          },
          "line": {
           "color": "#7D7F80"
          },
          "values": [
           [
            "ground: +",
            "ground: -"
           ],
           [
            72,
            21
           ],
           [
            8,
            42
           ]
          ]
         },
         "header": {
          "align": [
           "left",
           "left",
           "left",
           "left",
           "left"
          ],
          "fill": {
           "color": "#3fbc73"
          },
          "line": {
           "color": "#7D7F80"
          },
          "values": [
           "n=143",
           "predict: +",
           "pred: -"
          ]
         },
         "type": "table",
         "uid": "8a44a77e-9aab-4cf5-baee-880784889098"
        }
       ],
       "layout": {
        "height": 400,
        "title": {
         "text": "Confusion Matrix: Logistic Regression Model"
        },
        "width": 500
       }
      },
      "text/html": [
       "<div id=\"7b7db846-c31d-4f7d-b118-5dc72191847c\" style=\"height: 400px; width: 500px;\" class=\"plotly-graph-div\"></div><script type=\"text/javascript\">require([\"plotly\"], function(Plotly) { window.PLOTLYENV=window.PLOTLYENV || {};window.PLOTLYENV.BASE_URL=\"https://plot.ly\";\n",
       "if (document.getElementById(\"7b7db846-c31d-4f7d-b118-5dc72191847c\")) {\n",
       "    Plotly.newPlot(\"7b7db846-c31d-4f7d-b118-5dc72191847c\", [{\"cells\": {\"align\": [\"left\", \"left\", \"left\", \"left\", \"left\"], \"fill\": {\"color\": \"white\"}, \"line\": {\"color\": \"#7D7F80\"}, \"values\": [[\"ground: +\", \"ground: -\"], [72, 21], [8, 42]]}, \"header\": {\"align\": [\"left\", \"left\", \"left\", \"left\", \"left\"], \"fill\": {\"color\": \"#3fbc73\"}, \"line\": {\"color\": \"#7D7F80\"}, \"values\": [\"n=143\", \"predict: +\", \"pred: -\"]}, \"type\": \"table\", \"uid\": \"f37721b9-7bac-4e1e-a524-7e8474d02c1c\"}], {\"height\": 400, \"title\": {\"text\": \"Confusion Matrix: Logistic Regression Model\"}, \"width\": 500}, {\"showLink\": false, \"linkText\": \"Export to plot.ly\", \"plotlyServerURL\": \"https://plot.ly\"}); \n",
       "}\n",
       "});</script>"
      ],
      "text/vnd.plotly.v1+html": [
       "<div id=\"7b7db846-c31d-4f7d-b118-5dc72191847c\" style=\"height: 400px; width: 500px;\" class=\"plotly-graph-div\"></div><script type=\"text/javascript\">require([\"plotly\"], function(Plotly) { window.PLOTLYENV=window.PLOTLYENV || {};window.PLOTLYENV.BASE_URL=\"https://plot.ly\";\n",
       "if (document.getElementById(\"7b7db846-c31d-4f7d-b118-5dc72191847c\")) {\n",
       "    Plotly.newPlot(\"7b7db846-c31d-4f7d-b118-5dc72191847c\", [{\"cells\": {\"align\": [\"left\", \"left\", \"left\", \"left\", \"left\"], \"fill\": {\"color\": \"white\"}, \"line\": {\"color\": \"#7D7F80\"}, \"values\": [[\"ground: +\", \"ground: -\"], [72, 21], [8, 42]]}, \"header\": {\"align\": [\"left\", \"left\", \"left\", \"left\", \"left\"], \"fill\": {\"color\": \"#3fbc73\"}, \"line\": {\"color\": \"#7D7F80\"}, \"values\": [\"n=143\", \"predict: +\", \"pred: -\"]}, \"type\": \"table\", \"uid\": \"f37721b9-7bac-4e1e-a524-7e8474d02c1c\"}], {\"height\": 400, \"title\": {\"text\": \"Confusion Matrix: Logistic Regression Model\"}, \"width\": 500}, {\"showLink\": false, \"linkText\": \"Export to plot.ly\", \"plotlyServerURL\": \"https://plot.ly\"}); \n",
       "}\n",
       "});</script>"
      ]
     },
     "metadata": {},
     "output_type": "display_data"
    }
   ],
   "source": [
    "# Display the confusion matrix as a formatted table with Plotly\n",
    "trace = go.Table(\n",
    "    header=dict(values=cm.columns,\n",
    "                line = dict(color='#7D7F80'),\n",
    "                fill = dict(color=Viridis[11]),\n",
    "                align = ['left'] * 5),\n",
    "    cells=dict(values=[cm[f'n={len(y_test)}'], cm['predict: +'], cm['pred: -']],\n",
    "               line = dict(color='#7D7F80'),\n",
    "               fill = dict(color='white'),\n",
    "               align = ['left'] * 5))\n",
    "\n",
    "layout = go.Layout(\n",
    "    title = f'Confusion Matrix: Logistic Regression Model', \n",
    "    width=500,\n",
    "    height=400, \n",
    ")\n",
    "\n",
    "data = [trace]\n",
    "fig = dict(data=data, layout=layout)\n",
    "iplot(fig)"
   ]
  },
  {
   "cell_type": "code",
   "execution_count": 32,
   "metadata": {},
   "outputs": [],
   "source": [
    "# Confusion Matrix as a Donut Chart"
   ]
  },
  {
   "cell_type": "code",
   "execution_count": 33,
   "metadata": {},
   "outputs": [
    {
     "data": {
      "text/html": [
       "<div>\n",
       "<style scoped>\n",
       "    .dataframe tbody tr th:only-of-type {\n",
       "        vertical-align: middle;\n",
       "    }\n",
       "\n",
       "    .dataframe tbody tr th {\n",
       "        vertical-align: top;\n",
       "    }\n",
       "\n",
       "    .dataframe thead th {\n",
       "        text-align: right;\n",
       "    }\n",
       "</style>\n",
       "<table border=\"1\" class=\"dataframe\">\n",
       "  <thead>\n",
       "    <tr style=\"text-align: right;\">\n",
       "      <th></th>\n",
       "      <th>feature</th>\n",
       "      <th>coefficient</th>\n",
       "    </tr>\n",
       "  </thead>\n",
       "  <tbody>\n",
       "    <tr>\n",
       "      <th>0</th>\n",
       "      <td>Fare</td>\n",
       "      <td>0.001377</td>\n",
       "    </tr>\n",
       "    <tr>\n",
       "      <th>1</th>\n",
       "      <td>Age</td>\n",
       "      <td>-0.036138</td>\n",
       "    </tr>\n",
       "    <tr>\n",
       "      <th>2</th>\n",
       "      <td>pclass_2</td>\n",
       "      <td>-0.976368</td>\n",
       "    </tr>\n",
       "    <tr>\n",
       "      <th>3</th>\n",
       "      <td>pclass_3</td>\n",
       "      <td>-2.176333</td>\n",
       "    </tr>\n",
       "    <tr>\n",
       "      <th>4</th>\n",
       "      <td>female</td>\n",
       "      <td>2.257882</td>\n",
       "    </tr>\n",
       "    <tr>\n",
       "      <th>5</th>\n",
       "      <td>Cherbourg</td>\n",
       "      <td>0.339154</td>\n",
       "    </tr>\n",
       "    <tr>\n",
       "      <th>6</th>\n",
       "      <td>Queenstown</td>\n",
       "      <td>-0.059023</td>\n",
       "    </tr>\n",
       "    <tr>\n",
       "      <th>7</th>\n",
       "      <td>SibSp</td>\n",
       "      <td>-0.414378</td>\n",
       "    </tr>\n",
       "    <tr>\n",
       "      <th>8</th>\n",
       "      <td>name_length</td>\n",
       "      <td>0.038485</td>\n",
       "    </tr>\n",
       "  </tbody>\n",
       "</table>\n",
       "</div>"
      ],
      "text/plain": [
       "       feature  coefficient\n",
       "0         Fare     0.001377\n",
       "1          Age    -0.036138\n",
       "2     pclass_2    -0.976368\n",
       "3     pclass_3    -2.176333\n",
       "4       female     2.257882\n",
       "5    Cherbourg     0.339154\n",
       "6   Queenstown    -0.059023\n",
       "7        SibSp    -0.414378\n",
       "8  name_length     0.038485"
      ]
     },
     "execution_count": 33,
     "metadata": {},
     "output_type": "execute_result"
    }
   ],
   "source": [
    "# Feature importance (Logistic Regression)\n",
    "results=pd.DataFrame(list(zip(feature_cols, logreg.coef_[0])), columns=['feature', 'coefficient'])\n",
    "results"
   ]
  },
  {
   "cell_type": "code",
   "execution_count": 34,
   "metadata": {},
   "outputs": [
    {
     "data": {
      "application/vnd.plotly.v1+json": {
       "config": {
        "linkText": "Export to plot.ly",
        "plotlyServerURL": "https://plot.ly",
        "showLink": false
       },
       "data": [
        {
         "type": "bar",
         "uid": "61f864d6-56b9-417f-89e5-ab97f96bb523",
         "x": [
          "Fare",
          "Age",
          "pclass_2",
          "pclass_3",
          "female",
          "Cherbourg",
          "Queenstown",
          "SibSp",
          "name_length"
         ],
         "y": [
          0.0013767362202790655,
          -0.036137694031300516,
          -0.9763681274024866,
          -2.17633275473796,
          2.257881768980102,
          0.339153632980852,
          -0.05902262973716778,
          -0.41437769370915006,
          0.03848522921221472
         ]
        }
       ],
       "layout": {
        "title": {
         "text": "Younger passengers who paid higher fares were more likely to survive"
        },
        "xaxis": {
         "title": {
          "text": "Passenger Features"
         }
        },
        "yaxis": {
         "title": {
          "text": "Odds of Survival"
         }
        }
       }
      },
      "text/html": [
       "<div id=\"e3550012-3539-42e1-bcdc-0922a458b6b5\" style=\"height: 525px; width: 100%;\" class=\"plotly-graph-div\"></div><script type=\"text/javascript\">require([\"plotly\"], function(Plotly) { window.PLOTLYENV=window.PLOTLYENV || {};window.PLOTLYENV.BASE_URL=\"https://plot.ly\";\n",
       "if (document.getElementById(\"e3550012-3539-42e1-bcdc-0922a458b6b5\")) {\n",
       "    Plotly.newPlot(\"e3550012-3539-42e1-bcdc-0922a458b6b5\", [{\"x\": [\"Fare\", \"Age\", \"pclass_2\", \"pclass_3\", \"female\", \"Cherbourg\", \"Queenstown\", \"SibSp\", \"name_length\"], \"y\": [0.0013767362202790655, -0.036137694031300516, -0.9763681274024866, -2.17633275473796, 2.257881768980102, 0.339153632980852, -0.05902262973716778, -0.41437769370915006, 0.03848522921221472], \"type\": \"bar\", \"uid\": \"61f864d6-56b9-417f-89e5-ab97f96bb523\"}], {\"title\": {\"text\": \"Younger passengers who paid higher fares were more likely to survive\"}, \"xaxis\": {\"title\": {\"text\": \"Passenger Features\"}}, \"yaxis\": {\"title\": {\"text\": \"Odds of Survival\"}}}, {\"showLink\": false, \"linkText\": \"Export to plot.ly\", \"plotlyServerURL\": \"https://plot.ly\"}); \n",
       "}\n",
       "});</script><script type=\"text/javascript\">window.addEventListener(\"resize\", function(){if (document.getElementById(\"e3550012-3539-42e1-bcdc-0922a458b6b5\")) {window._Plotly.Plots.resize(document.getElementById(\"e3550012-3539-42e1-bcdc-0922a458b6b5\"));};})</script>"
      ],
      "text/vnd.plotly.v1+html": [
       "<div id=\"e3550012-3539-42e1-bcdc-0922a458b6b5\" style=\"height: 525px; width: 100%;\" class=\"plotly-graph-div\"></div><script type=\"text/javascript\">require([\"plotly\"], function(Plotly) { window.PLOTLYENV=window.PLOTLYENV || {};window.PLOTLYENV.BASE_URL=\"https://plot.ly\";\n",
       "if (document.getElementById(\"e3550012-3539-42e1-bcdc-0922a458b6b5\")) {\n",
       "    Plotly.newPlot(\"e3550012-3539-42e1-bcdc-0922a458b6b5\", [{\"x\": [\"Fare\", \"Age\", \"pclass_2\", \"pclass_3\", \"female\", \"Cherbourg\", \"Queenstown\", \"SibSp\", \"name_length\"], \"y\": [0.0013767362202790655, -0.036137694031300516, -0.9763681274024866, -2.17633275473796, 2.257881768980102, 0.339153632980852, -0.05902262973716778, -0.41437769370915006, 0.03848522921221472], \"type\": \"bar\", \"uid\": \"61f864d6-56b9-417f-89e5-ab97f96bb523\"}], {\"title\": {\"text\": \"Younger passengers who paid higher fares were more likely to survive\"}, \"xaxis\": {\"title\": {\"text\": \"Passenger Features\"}}, \"yaxis\": {\"title\": {\"text\": \"Odds of Survival\"}}}, {\"showLink\": false, \"linkText\": \"Export to plot.ly\", \"plotlyServerURL\": \"https://plot.ly\"}); \n",
       "}\n",
       "});</script><script type=\"text/javascript\">window.addEventListener(\"resize\", function(){if (document.getElementById(\"e3550012-3539-42e1-bcdc-0922a458b6b5\")) {window._Plotly.Plots.resize(document.getElementById(\"e3550012-3539-42e1-bcdc-0922a458b6b5\"));};})</script>"
      ]
     },
     "metadata": {},
     "output_type": "display_data"
    }
   ],
   "source": [
    "# Let's display that with Plotly.\n",
    "mydata = [go.Bar(\n",
    "    x=results['feature'],\n",
    "    y=results['coefficient']\n",
    ")]\n",
    "\n",
    "mylayout = go.Layout(\n",
    "    title='Younger passengers who paid higher fares were more likely to survive',\n",
    "    xaxis = {'title': 'Passenger Features'},\n",
    "    yaxis = {'title': 'Odds of Survival'}, \n",
    "\n",
    ")\n",
    "fig = go.Figure(data=mydata, layout=mylayout)\n",
    "iplot(fig)"
   ]
  },
  {
   "cell_type": "code",
   "execution_count": 35,
   "metadata": {},
   "outputs": [
    {
     "name": "stdout",
     "output_type": "stream",
     "text": [
      "143\n",
      "143\n",
      "143\n",
      "143\n"
     ]
    }
   ],
   "source": [
    "print(len(probabilities))\n",
    "print(len(predictions))\n",
    "print(len(y_test))\n",
    "print(len(X_test1))"
   ]
  },
  {
   "cell_type": "code",
   "execution_count": 36,
   "metadata": {},
   "outputs": [],
   "source": [
    "X_test1=X_test1.reset_index(drop=True)\n",
    "y_test=y_test.reset_index(drop=True)\n",
    "probs=pd.DataFrame(probabilities, columns=['survival_prob'])"
   ]
  },
  {
   "cell_type": "code",
   "execution_count": 37,
   "metadata": {},
   "outputs": [],
   "source": [
    "# Merge back in the names\n",
    "final=pd.concat([X_test1, y_test, probs], axis=1)"
   ]
  },
  {
   "cell_type": "code",
   "execution_count": 38,
   "metadata": {},
   "outputs": [
    {
     "data": {
      "text/plain": [
       "(143, 12)"
      ]
     },
     "execution_count": 38,
     "metadata": {},
     "output_type": "execute_result"
    }
   ],
   "source": [
    "final.shape"
   ]
  },
  {
   "cell_type": "code",
   "execution_count": 39,
   "metadata": {},
   "outputs": [
    {
     "data": {
      "text/html": [
       "<div>\n",
       "<style scoped>\n",
       "    .dataframe tbody tr th:only-of-type {\n",
       "        vertical-align: middle;\n",
       "    }\n",
       "\n",
       "    .dataframe tbody tr th {\n",
       "        vertical-align: top;\n",
       "    }\n",
       "\n",
       "    .dataframe thead th {\n",
       "        text-align: right;\n",
       "    }\n",
       "</style>\n",
       "<table border=\"1\" class=\"dataframe\">\n",
       "  <thead>\n",
       "    <tr style=\"text-align: right;\">\n",
       "      <th></th>\n",
       "      <th>Fare</th>\n",
       "      <th>Age</th>\n",
       "      <th>pclass_2</th>\n",
       "      <th>pclass_3</th>\n",
       "      <th>female</th>\n",
       "      <th>Cherbourg</th>\n",
       "      <th>Queenstown</th>\n",
       "      <th>SibSp</th>\n",
       "      <th>name_length</th>\n",
       "      <th>Name</th>\n",
       "      <th>Survived</th>\n",
       "      <th>survival_prob</th>\n",
       "    </tr>\n",
       "  </thead>\n",
       "  <tbody>\n",
       "    <tr>\n",
       "      <th>0</th>\n",
       "      <td>69.3000</td>\n",
       "      <td>24.0</td>\n",
       "      <td>0</td>\n",
       "      <td>0</td>\n",
       "      <td>1</td>\n",
       "      <td>1</td>\n",
       "      <td>0</td>\n",
       "      <td>0</td>\n",
       "      <td>20</td>\n",
       "      <td>Sagesser, Mlle. Emma</td>\n",
       "      <td>1</td>\n",
       "      <td>0.944555</td>\n",
       "    </tr>\n",
       "    <tr>\n",
       "      <th>1</th>\n",
       "      <td>78.2667</td>\n",
       "      <td>54.0</td>\n",
       "      <td>0</td>\n",
       "      <td>0</td>\n",
       "      <td>1</td>\n",
       "      <td>1</td>\n",
       "      <td>0</td>\n",
       "      <td>1</td>\n",
       "      <td>30</td>\n",
       "      <td>Eustis, Miss. Elizabeth Mussey</td>\n",
       "      <td>1</td>\n",
       "      <td>0.836021</td>\n",
       "    </tr>\n",
       "    <tr>\n",
       "      <th>2</th>\n",
       "      <td>79.6500</td>\n",
       "      <td>52.0</td>\n",
       "      <td>0</td>\n",
       "      <td>0</td>\n",
       "      <td>0</td>\n",
       "      <td>0</td>\n",
       "      <td>0</td>\n",
       "      <td>1</td>\n",
       "      <td>17</td>\n",
       "      <td>Taussig, Mr. Emil</td>\n",
       "      <td>0</td>\n",
       "      <td>0.183791</td>\n",
       "    </tr>\n",
       "    <tr>\n",
       "      <th>3</th>\n",
       "      <td>262.3750</td>\n",
       "      <td>18.0</td>\n",
       "      <td>0</td>\n",
       "      <td>0</td>\n",
       "      <td>1</td>\n",
       "      <td>1</td>\n",
       "      <td>0</td>\n",
       "      <td>2</td>\n",
       "      <td>26</td>\n",
       "      <td>Ryerson, Miss. Emily Borie</td>\n",
       "      <td>1</td>\n",
       "      <td>0.919267</td>\n",
       "    </tr>\n",
       "    <tr>\n",
       "      <th>4</th>\n",
       "      <td>26.0000</td>\n",
       "      <td>27.0</td>\n",
       "      <td>1</td>\n",
       "      <td>0</td>\n",
       "      <td>0</td>\n",
       "      <td>0</td>\n",
       "      <td>0</td>\n",
       "      <td>0</td>\n",
       "      <td>27</td>\n",
       "      <td>Sharp, Mr. Percival James R</td>\n",
       "      <td>0</td>\n",
       "      <td>0.279542</td>\n",
       "    </tr>\n",
       "  </tbody>\n",
       "</table>\n",
       "</div>"
      ],
      "text/plain": [
       "       Fare   Age  pclass_2  pclass_3  female  Cherbourg  Queenstown  SibSp  \\\n",
       "0   69.3000  24.0         0         0       1          1           0      0   \n",
       "1   78.2667  54.0         0         0       1          1           0      1   \n",
       "2   79.6500  52.0         0         0       0          0           0      1   \n",
       "3  262.3750  18.0         0         0       1          1           0      2   \n",
       "4   26.0000  27.0         1         0       0          0           0      0   \n",
       "\n",
       "   name_length                            Name  Survived  survival_prob  \n",
       "0           20            Sagesser, Mlle. Emma         1       0.944555  \n",
       "1           30  Eustis, Miss. Elizabeth Mussey         1       0.836021  \n",
       "2           17               Taussig, Mr. Emil         0       0.183791  \n",
       "3           26      Ryerson, Miss. Emily Borie         1       0.919267  \n",
       "4           27     Sharp, Mr. Percival James R         0       0.279542  "
      ]
     },
     "execution_count": 39,
     "metadata": {},
     "output_type": "execute_result"
    }
   ],
   "source": [
    "final.head()"
   ]
  },
  {
   "cell_type": "code",
   "execution_count": 40,
   "metadata": {},
   "outputs": [],
   "source": [
    "final.to_csv('00_resources/final_probs.csv', index=False)"
   ]
  },
  {
   "cell_type": "code",
   "execution_count": 43,
   "metadata": {},
   "outputs": [
    {
     "data": {
      "text/plain": [
       "Index(['Fare', 'Age', 'pclass_2', 'pclass_3', 'female', 'Cherbourg',\n",
       "       'Queenstown', 'SibSp', 'name_length', 'Name', 'Survived',\n",
       "       'survival_prob'],\n",
       "      dtype='object')"
      ]
     },
     "execution_count": 43,
     "metadata": {},
     "output_type": "execute_result"
    }
   ],
   "source": [
    "final.columns"
   ]
  },
  {
   "cell_type": "code",
   "execution_count": 47,
   "metadata": {},
   "outputs": [
    {
     "data": {
      "text/plain": [
       "0.9192673632810157"
      ]
     },
     "execution_count": 47,
     "metadata": {},
     "output_type": "execute_result"
    }
   ],
   "source": [
    "value='Sharp, Mr. Percival James R'\n",
    "survival=final.loc[3, 'survival_prob']\n",
    "survival"
   ]
  },
  {
   "cell_type": "code",
   "execution_count": 49,
   "metadata": {},
   "outputs": [
    {
     "data": {
      "text/plain": [
       "array(['Braund, Mr. Owen Harris',\n",
       "       'Cumings, Mrs. John Bradley (Florence Briggs Thayer)',\n",
       "       'Heikkinen, Miss. Laina',\n",
       "       'Futrelle, Mrs. Jacques Heath (Lily May Peel)',\n",
       "       'Allen, Mr. William Henry'], dtype=object)"
      ]
     },
     "execution_count": 49,
     "metadata": {},
     "output_type": "execute_result"
    }
   ],
   "source": [
    "names=df['Name'].values\n",
    "names[:5]"
   ]
  },
  {
   "cell_type": "code",
   "execution_count": 50,
   "metadata": {},
   "outputs": [
    {
     "data": {
      "text/plain": [
       "array([0, 1, 2, 3, 4], dtype=int64)"
      ]
     },
     "execution_count": 50,
     "metadata": {},
     "output_type": "execute_result"
    }
   ],
   "source": [
    "indexs=df['Name'].index.values\n",
    "indexs[:5]"
   ]
  },
  {
   "cell_type": "code",
   "execution_count": 56,
   "metadata": {},
   "outputs": [
    {
     "name": "stdout",
     "output_type": "stream",
     "text": [
      "(5, 'McCarthy, Mr. Timothy J')\n",
      "5\n",
      "McCarthy, Mr. Timothy J\n"
     ]
    }
   ],
   "source": [
    "names=df['Name'].values\n",
    "index=df['Name'].index.values\n",
    "nameslist = list(zip(indexs, names))\n",
    "print(nameslist[5])\n",
    "print(nameslist[5][0])\n",
    "print(nameslist[5][1])"
   ]
  },
  {
   "cell_type": "code",
   "execution_count": 60,
   "metadata": {},
   "outputs": [
    {
     "data": {
      "text/plain": [
       "{'label': 'Braund, Mr. Owen Harris', 'value': 0}"
      ]
     },
     "execution_count": 60,
     "metadata": {},
     "output_type": "execute_result"
    }
   ],
   "source": [
    "options=[{'label': k, 'value': i} for i,k in nameslist]\n",
    "options[0]"
   ]
  },
  {
   "cell_type": "code",
   "execution_count": 65,
   "metadata": {},
   "outputs": [
    {
     "data": {
      "text/plain": [
       "0"
      ]
     },
     "execution_count": 65,
     "metadata": {},
     "output_type": "execute_result"
    }
   ],
   "source": [
    "value=nameslist[0][0]\n",
    "value"
   ]
  },
  {
   "cell_type": "code",
   "execution_count": 71,
   "metadata": {},
   "outputs": [
    {
     "data": {
      "text/plain": [
       "94.0"
      ]
     },
     "execution_count": 71,
     "metadata": {},
     "output_type": "execute_result"
    }
   ],
   "source": [
    "survival=final.loc[value, 'survival_prob']\n",
    "round(survival*100)"
   ]
  },
  {
   "cell_type": "code",
   "execution_count": null,
   "metadata": {},
   "outputs": [],
   "source": [
    "round(sur)"
   ]
  }
 ],
 "metadata": {
  "kernelspec": {
   "display_name": "Python 3",
   "language": "python",
   "name": "python3"
  },
  "language_info": {
   "codemirror_mode": {
    "name": "ipython",
    "version": 3
   },
   "file_extension": ".py",
   "mimetype": "text/x-python",
   "name": "python",
   "nbconvert_exporter": "python",
   "pygments_lexer": "ipython3",
   "version": "3.6.4"
  }
 },
 "nbformat": 4,
 "nbformat_minor": 2
}
